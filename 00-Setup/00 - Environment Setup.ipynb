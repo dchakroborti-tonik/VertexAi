{
 "cells": [
  {
   "cell_type": "markdown",
   "id": "bfb16a8a",
   "metadata": {},
   "source": [
    "![tracker](https://us-central1-vertex-ai-mlops-369716.cloudfunctions.net/pixel-tracking?path=statmike%2Fvertex-ai-mlops%2F00+-+Setup&file=00+-+Environment+Setup.ipynb)\n",
    "<!--- header table --->\n",
    "<table align=\"left\">\n",
    "  <td style=\"text-align: center\">\n",
    "    <a href=\"https://colab.research.google.com/github/statmike/vertex-ai-mlops/blob/main/00%20-%20Setup/00%20-%20Environment%20Setup.ipynb\">\n",
    "      <img src=\"https://cloud.google.com/ml-engine/images/colab-logo-32px.png\" alt=\"Google Colaboratory logo\">\n",
    "      <br>Run in<br>Colab\n",
    "    </a>\n",
    "  </td>\n",
    "  <td style=\"text-align: center\">\n",
    "    <a href=\"https://console.cloud.google.com/vertex-ai/colab/import/https%3A%2F%2Fraw.githubusercontent.com%2Fstatmike%2Fvertex-ai-mlops%2Fmain%2F00%2520-%2520Setup%2F00%2520-%2520Environment%2520Setup.ipynb\">\n",
    "      <img width=\"32px\" src=\"https://lh3.googleusercontent.com/JmcxdQi-qOpctIvWKgPtrzZdJJK-J3sWE1RsfjZNwshCFgE_9fULcNpuXYTilIR2hjwN\" alt=\"Google Cloud Colab Enterprise logo\">\n",
    "      <br>Run in<br>Colab Enterprise\n",
    "    </a>\n",
    "  </td>      \n",
    "  <td style=\"text-align: center\">\n",
    "    <a href=\"https://github.com/statmike/vertex-ai-mlops/blob/main/00%20-%20Setup/00%20-%20Environment%20Setup.ipynb\">\n",
    "      <img src=\"https://cloud.google.com/ml-engine/images/github-logo-32px.png\" alt=\"GitHub logo\">\n",
    "      <br>View on<br>GitHub\n",
    "    </a>\n",
    "  </td>\n",
    "  <td style=\"text-align: center\">\n",
    "    <a href=\"https://console.cloud.google.com/vertex-ai/workbench/deploy-notebook?download_url=https://raw.githubusercontent.com/statmike/vertex-ai-mlops/main/00%20-%20Setup/00%20-%20Environment%20Setup.ipynb\">\n",
    "      <img src=\"https://lh3.googleusercontent.com/UiNooY4LUgW_oTvpsNhPpQzsstV5W8F7rYgxgGBD85cWJoLmrOzhVs_ksK_vgx40SHs7jCqkTkCk=e14-rj-sc0xffffff-h130-w32\" alt=\"Vertex AI logo\">\n",
    "      <br>Open in<br>Vertex AI Workbench\n",
    "    </a>\n",
    "  </td>\n",
    "</table>"
   ]
  },
  {
   "cell_type": "markdown",
   "id": "2c69d4d9",
   "metadata": {},
   "source": [
    "# 00 - Environment Setup\n",
    "\n",
    "This is the notebook that sets up the GCP project for the other notebooks in this repository.  Based on the [readme.md](../readme.md), you already have this repository of notebooks pulled as a local resource in your Vertex AI Workbench based notebook instance.\n",
    "\n",
    "**Video Walkthrough of this notebook:**\n",
    "\n",
    "Includes conversational walkthrough and more explanatory information than the notebook:\n",
    "<p align=\"center\" width=\"100%\" width=\"100%\"><center><a href=\"https://youtu.be/pnQ5Rv4ZQfo\" target=\"_blank\" rel=\"noopener noreferrer\"><img src=\"../architectures/thumbnails/playbutton/00.png\" width=\"40%\"></a></center></p>\n",
    "\n",
    "**Conceptual Flow & Workflow**\n",
    "\n",
    "<p align=\"center\">\n",
    "  <img alt=\"Conceptual Flow\" src=\"../architectures/slides/00_arch.png\" width=\"45%\">\n",
    "&nbsp; &nbsp; &nbsp; &nbsp;\n",
    "  <img alt=\"Workflow\" src=\"../architectures/slides/00_console.png\" width=\"45%\">\n",
    "</p>"
   ]
  },
  {
   "cell_type": "markdown",
   "id": "82ee7178",
   "metadata": {},
   "source": [
    "---\n",
    "## Setup"
   ]
  },
  {
   "cell_type": "markdown",
   "id": "c80aba5e",
   "metadata": {},
   "source": [
    "inputs:"
   ]
  },
  {
   "cell_type": "code",
   "execution_count": 1,
   "id": "03f9ee4d-62f2-473f-b9ea-61212bf9074e",
   "metadata": {},
   "outputs": [
    {
     "data": {
      "text/plain": [
       "'prj-prod-dataplatform'"
      ]
     },
     "execution_count": 1,
     "metadata": {},
     "output_type": "execute_result"
    }
   ],
   "source": [
    "project = !gcloud config get-value project\n",
    "PROJECT_ID = project[0]\n",
    "PROJECT_ID"
   ]
  },
  {
   "cell_type": "code",
   "execution_count": 2,
   "id": "5c342aab",
   "metadata": {},
   "outputs": [],
   "source": [
    "REGION = 'asia-southeast1-a'"
   ]
  },
  {
   "cell_type": "markdown",
   "id": "632bae5a",
   "metadata": {},
   "source": [
    "packages:"
   ]
  },
  {
   "cell_type": "code",
   "execution_count": 3,
   "id": "6d470506",
   "metadata": {},
   "outputs": [],
   "source": [
    "from google.cloud import storage\n",
    "from google.cloud import bigquery\n",
    "\n",
    "import pandas as pd\n",
    "from sklearn import datasets"
   ]
  },
  {
   "cell_type": "markdown",
   "id": "d354569f-5abf-4ba2-a6e0-60de4aad8efe",
   "metadata": {},
   "source": [
    "clients:"
   ]
  },
  {
   "cell_type": "code",
   "execution_count": 4,
   "id": "2a75b04c-3632-4d1f-a4ae-0e80b556de99",
   "metadata": {},
   "outputs": [],
   "source": [
    "gcs = storage.Client(project = PROJECT_ID)\n",
    "bq = bigquery.Client(project = PROJECT_ID)"
   ]
  },
  {
   "cell_type": "markdown",
   "id": "9728c71d",
   "metadata": {},
   "source": [
    "parameters:"
   ]
  },
  {
   "cell_type": "code",
   "execution_count": 6,
   "id": "45c5eb21",
   "metadata": {},
   "outputs": [],
   "source": [
    "BUCKET = 'prod-tonik-dl-staging-data'"
   ]
  },
  {
   "cell_type": "markdown",
   "id": "d2ade2ea",
   "metadata": {},
   "source": [
    "---\n",
    "## Create Storage Bucket\n",
    "Check to see if bucket already exist and create if missing:\n",
    "- [GCS Python Client](https://cloud.google.com/python/docs/reference/storage/latest/google.cloud.storage.client.Client)"
   ]
  },
  {
   "cell_type": "code",
   "execution_count": 7,
   "id": "baa83e13",
   "metadata": {},
   "outputs": [
    {
     "name": "stdout",
     "output_type": "stream",
     "text": [
      "Bucket already exist: prod-tonik-dl-staging-data\n"
     ]
    }
   ],
   "source": [
    "if not gcs.lookup_bucket(BUCKET):\n",
    "    bucketDef = gcs.bucket(BUCKET)\n",
    "    bucket = gcs.create_bucket(bucketDef, project=PROJECT_ID, location=REGION)\n",
    "    print(f'Created Bucket: {gcs.lookup_bucket(BUCKET).name}')\n",
    "else:\n",
    "    bucketDef = gcs.bucket(BUCKET)\n",
    "    print(f'Bucket already exist: {bucketDef.name}')"
   ]
  },
  {
   "cell_type": "code",
   "execution_count": 8,
   "id": "414f3fbc-baa6-442b-a36d-d39ce4659061",
   "metadata": {},
   "outputs": [
    {
     "name": "stdout",
     "output_type": "stream",
     "text": [
      "Review the storage bucket in the console here:\n",
      "https://console.cloud.google.com/storage/browser/prj-prod-dataplatform;tab=objects&project=prj-prod-dataplatform\n"
     ]
    }
   ],
   "source": [
    "print(f'Review the storage bucket in the console here:\\nhttps://console.cloud.google.com/storage/browser/{PROJECT_ID};tab=objects&project={PROJECT_ID}')"
   ]
  },
  {
   "cell_type": "code",
   "execution_count": 17,
   "id": "2d7a24b7-45ee-4e57-94a2-f5ae1d4e1622",
   "metadata": {},
   "outputs": [],
   "source": [
    "DATANAME = \"LoanmasterSample\""
   ]
  },
  {
   "cell_type": "code",
   "execution_count": 14,
   "id": "5569c05e-e36d-4b5f-9483-85c9337df56a",
   "metadata": {},
   "outputs": [
    {
     "data": {
      "application/vnd.jupyter.widget-view+json": {
       "model_id": "7b70bb4fba18404f9c02d5142a01d863",
       "version_major": 2,
       "version_minor": 0
      },
      "text/plain": [
       "Query is running:   0%|          |"
      ]
     },
     "metadata": {},
     "output_type": "display_data"
    },
    {
     "data": {
      "application/vnd.jupyter.widget-view+json": {
       "model_id": "56e8d09e418d4036b60cb991d1e9c8da",
       "version_major": 2,
       "version_minor": 0
      },
      "text/plain": [
       "Downloading:   0%|          |"
      ]
     },
     "metadata": {},
     "output_type": "display_data"
    }
   ],
   "source": [
    "%%bigquery df\n",
    "WITH\n",
    "  b AS (\n",
    "  SELECT\n",
    "    loanAccountNumber,\n",
    "    min_inst_def30,\n",
    "    obs_min_inst_def30\n",
    "  FROM\n",
    "    prj-prod-dataplatform.risk_credit_mis.loan_deliquency_data\n",
    "  WHERE\n",
    "    obs_min_inst_def30 >= 2),\n",
    "lmt as\n",
    "(SELECT\n",
    "  lmt.loanAccountNumber,\n",
    "  lmt.customerId,\n",
    "  lmt.digitalLoanAccountId,\n",
    "  lmt.tsa_onboarding_time,\n",
    "  lmt.startApplyDateTime,\n",
    "  lmt.termsAndConditionsSubmitDateTime,\n",
    "  lmt.isTermsAndConditionsAccepted,\n",
    "  lmt.disbursementDateTime,\n",
    "  lmt.flagDisbursement,\n",
    "  lmt.loanPaidStatus,\n",
    "  case when b.obs_min_inst_def30 >=2 and b.min_inst_def30 in (1,2) then lmt.loanAccountNumber end FSPD30_loancnt,\n",
    "  case when b.obs_min_inst_def30 >=2 then lmt.loanAccountNumber end obsFSPD30_loancnt\n",
    "FROM\n",
    "  `risk_credit_mis.loan_master_table` lmt\n",
    "INNER JOIN\n",
    "  b\n",
    "ON\n",
    "  lmt.loanAccountNumber = b.loanAccountNumber \n",
    ")\n",
    "select \n",
    "distinct\n",
    "  lmt.customerId,\n",
    "  lmt.digitalLoanAccountId,\n",
    "  lmt.loanAccountNumber,\n",
    "  lmt.tsa_onboarding_time,\n",
    "  lmt.startApplyDateTime,\n",
    "  lmt.termsAndConditionsSubmitDateTime,\n",
    "  lmt.isTermsAndConditionsAccepted,\n",
    "  lmt.disbursementDateTime,\n",
    "  lmt.flagDisbursement,\n",
    "  lmt.loanPaidStatus,\n",
    "  t3.creditScoreUpdated   ,\n",
    "  t3.fraudScore   ,\t\n",
    "  t3.fraudScoreUpdated    ,\n",
    "  t3.calculateddate   ,\n",
    "  t4.run_date ,\n",
    "  ca.package_name ,\n",
    "  ca.first_install_time    ,\n",
    "  t4.GeneralInfo.brand     ,\n",
    "  t4.Hardware.device__brand   ,\n",
    "  t4.Hardware.device__manufacturer   ,\n",
    "  t4.Hardware.device__model,\n",
    "  t4.GeneralData.telephony_info__network_operator_name,\n",
    "  t4.GeneralData.telephony_info__network_operator,\n",
    "  t4.GeneralData.sim_operator_name,\n",
    "  lmt.FSPD30_loancnt,     ---- FSPD30 = 1 when this value is not null(provided this as there were be duplicate rows in this dataset because of package name)\n",
    "  lmt.obsFSPD30_loancnt   ---- obsFSPD30 = 1 when this value is not null (provided this as there were be duplicate rows in this dataset because of package name)\n",
    "from lmt\n",
    "LEFT JOIN\n",
    "`prj-prod-dataplatform.dl_loans_db_raw.tdbk_digital_loan_application` t2\n",
    "ON lmt.digitalLoanAccountId = t2.digitalLoanAccountId\n",
    "LEFT JOIN\n",
    "`prj-prod-dataplatform.dl_loans_db_raw.tdbk_credolab_track` t3\n",
    "ON t2.credolabRefNumber = t3.refno\n",
    "LEFT JOIN\n",
    "`prj-prod-dataplatform.credolab_raw.android_credolab_datasets_struct_columns` t4\n",
    "ON t3.refno = t4.deviceId\n",
    "inner join\n",
    "`prj-prod-dataplatform.core_raw.loan_accounts` loan\n",
    "on loan.CUSTOMERID = lmt.customerId\n",
    " INNER JOIN\n",
    "(select deviceId, af.package_name as package_name, af.first_install_time as first_install_time from `prj-prod-dataplatform.credolab_raw.android_credolab_Application`  ,\n",
    "unnest(Application) as af) ca\n",
    "ON ca.deviceId = t3.refno\n",
    "where date(lmt.startApplyDateTime) >='2024-06-01'   ---- Please change the date as per your requirement. This is Loan Application Apply Date\n",
    "and lmt.FSPD30_loancnt is not null\n",
    "order by lmt.customerId\n",
    "limit 1000   --- Please remove this when running the query\n",
    ";"
   ]
  },
  {
   "cell_type": "code",
   "execution_count": 15,
   "id": "23968be0-091d-411c-831d-59a5297ecbb5",
   "metadata": {},
   "outputs": [
    {
     "data": {
      "text/html": [
       "<div>\n",
       "<style scoped>\n",
       "    .dataframe tbody tr th:only-of-type {\n",
       "        vertical-align: middle;\n",
       "    }\n",
       "\n",
       "    .dataframe tbody tr th {\n",
       "        vertical-align: top;\n",
       "    }\n",
       "\n",
       "    .dataframe thead th {\n",
       "        text-align: right;\n",
       "    }\n",
       "</style>\n",
       "<table border=\"1\" class=\"dataframe\">\n",
       "  <thead>\n",
       "    <tr style=\"text-align: right;\">\n",
       "      <th></th>\n",
       "      <th>customerId</th>\n",
       "      <th>digitalLoanAccountId</th>\n",
       "      <th>loanAccountNumber</th>\n",
       "      <th>tsa_onboarding_time</th>\n",
       "      <th>startApplyDateTime</th>\n",
       "      <th>termsAndConditionsSubmitDateTime</th>\n",
       "      <th>isTermsAndConditionsAccepted</th>\n",
       "      <th>disbursementDateTime</th>\n",
       "      <th>flagDisbursement</th>\n",
       "      <th>loanPaidStatus</th>\n",
       "      <th>...</th>\n",
       "      <th>first_install_time</th>\n",
       "      <th>brand</th>\n",
       "      <th>device__brand</th>\n",
       "      <th>device__manufacturer</th>\n",
       "      <th>device__model</th>\n",
       "      <th>telephony_info__network_operator_name</th>\n",
       "      <th>telephony_info__network_operator</th>\n",
       "      <th>sim_operator_name</th>\n",
       "      <th>FSPD30_loancnt</th>\n",
       "      <th>obsFSPD30_loancnt</th>\n",
       "    </tr>\n",
       "  </thead>\n",
       "  <tbody>\n",
       "    <tr>\n",
       "      <th>0</th>\n",
       "      <td>1302142</td>\n",
       "      <td>d3038dd0-0e81-4983-91d8-9fc9065a8ed1</td>\n",
       "      <td>60813021420026</td>\n",
       "      <td>2022-04-04 21:16:19</td>\n",
       "      <td>2024-06-01 08:13:50</td>\n",
       "      <td>2024-06-05 09:08:57</td>\n",
       "      <td>1</td>\n",
       "      <td>2024-06-05 09:43:16</td>\n",
       "      <td>1</td>\n",
       "      <td>Normal</td>\n",
       "      <td>...</td>\n",
       "      <td>2009-01-01 08:00:00+00:00</td>\n",
       "      <td>vivo</td>\n",
       "      <td>vivo</td>\n",
       "      <td>None</td>\n",
       "      <td>V2352A</td>\n",
       "      <td></td>\n",
       "      <td>51502</td>\n",
       "      <td>GLOBE</td>\n",
       "      <td>60813021420026</td>\n",
       "      <td>60813021420026</td>\n",
       "    </tr>\n",
       "    <tr>\n",
       "      <th>1</th>\n",
       "      <td>1302142</td>\n",
       "      <td>d3038dd0-0e81-4983-91d8-9fc9065a8ed1</td>\n",
       "      <td>60813021420026</td>\n",
       "      <td>2022-04-04 21:16:19</td>\n",
       "      <td>2024-06-01 08:13:50</td>\n",
       "      <td>2024-06-05 09:08:57</td>\n",
       "      <td>1</td>\n",
       "      <td>2024-06-05 09:43:16</td>\n",
       "      <td>1</td>\n",
       "      <td>Normal</td>\n",
       "      <td>...</td>\n",
       "      <td>2009-01-01 08:00:00+00:00</td>\n",
       "      <td>vivo</td>\n",
       "      <td>vivo</td>\n",
       "      <td>None</td>\n",
       "      <td>V2352A</td>\n",
       "      <td></td>\n",
       "      <td>51502</td>\n",
       "      <td>GLOBE</td>\n",
       "      <td>60813021420026</td>\n",
       "      <td>60813021420026</td>\n",
       "    </tr>\n",
       "    <tr>\n",
       "      <th>2</th>\n",
       "      <td>1302142</td>\n",
       "      <td>d3038dd0-0e81-4983-91d8-9fc9065a8ed1</td>\n",
       "      <td>60813021420026</td>\n",
       "      <td>2022-04-04 21:16:19</td>\n",
       "      <td>2024-06-01 08:13:50</td>\n",
       "      <td>2024-06-05 09:08:57</td>\n",
       "      <td>1</td>\n",
       "      <td>2024-06-05 09:43:16</td>\n",
       "      <td>1</td>\n",
       "      <td>Normal</td>\n",
       "      <td>...</td>\n",
       "      <td>2009-01-01 08:00:00+00:00</td>\n",
       "      <td>vivo</td>\n",
       "      <td>vivo</td>\n",
       "      <td>None</td>\n",
       "      <td>V2352A</td>\n",
       "      <td></td>\n",
       "      <td>51502</td>\n",
       "      <td>GLOBE</td>\n",
       "      <td>60813021420026</td>\n",
       "      <td>60813021420026</td>\n",
       "    </tr>\n",
       "    <tr>\n",
       "      <th>3</th>\n",
       "      <td>1302142</td>\n",
       "      <td>d3038dd0-0e81-4983-91d8-9fc9065a8ed1</td>\n",
       "      <td>60813021420026</td>\n",
       "      <td>2022-04-04 21:16:19</td>\n",
       "      <td>2024-06-01 08:13:50</td>\n",
       "      <td>2024-06-05 09:08:57</td>\n",
       "      <td>1</td>\n",
       "      <td>2024-06-05 09:43:16</td>\n",
       "      <td>1</td>\n",
       "      <td>Normal</td>\n",
       "      <td>...</td>\n",
       "      <td>2009-01-01 08:00:00+00:00</td>\n",
       "      <td>vivo</td>\n",
       "      <td>vivo</td>\n",
       "      <td>None</td>\n",
       "      <td>V2352A</td>\n",
       "      <td></td>\n",
       "      <td>51502</td>\n",
       "      <td>GLOBE</td>\n",
       "      <td>60813021420026</td>\n",
       "      <td>60813021420026</td>\n",
       "    </tr>\n",
       "    <tr>\n",
       "      <th>4</th>\n",
       "      <td>1302142</td>\n",
       "      <td>d3038dd0-0e81-4983-91d8-9fc9065a8ed1</td>\n",
       "      <td>60813021420026</td>\n",
       "      <td>2022-04-04 21:16:19</td>\n",
       "      <td>2024-06-01 08:13:50</td>\n",
       "      <td>2024-06-05 09:08:57</td>\n",
       "      <td>1</td>\n",
       "      <td>2024-06-05 09:43:16</td>\n",
       "      <td>1</td>\n",
       "      <td>Normal</td>\n",
       "      <td>...</td>\n",
       "      <td>2009-01-01 08:00:00+00:00</td>\n",
       "      <td>vivo</td>\n",
       "      <td>vivo</td>\n",
       "      <td>None</td>\n",
       "      <td>V2352A</td>\n",
       "      <td></td>\n",
       "      <td>51502</td>\n",
       "      <td>GLOBE</td>\n",
       "      <td>60813021420026</td>\n",
       "      <td>60813021420026</td>\n",
       "    </tr>\n",
       "  </tbody>\n",
       "</table>\n",
       "<p>5 rows × 26 columns</p>\n",
       "</div>"
      ],
      "text/plain": [
       "   customerId                  digitalLoanAccountId loanAccountNumber  \\\n",
       "0     1302142  d3038dd0-0e81-4983-91d8-9fc9065a8ed1    60813021420026   \n",
       "1     1302142  d3038dd0-0e81-4983-91d8-9fc9065a8ed1    60813021420026   \n",
       "2     1302142  d3038dd0-0e81-4983-91d8-9fc9065a8ed1    60813021420026   \n",
       "3     1302142  d3038dd0-0e81-4983-91d8-9fc9065a8ed1    60813021420026   \n",
       "4     1302142  d3038dd0-0e81-4983-91d8-9fc9065a8ed1    60813021420026   \n",
       "\n",
       "  tsa_onboarding_time  startApplyDateTime termsAndConditionsSubmitDateTime  \\\n",
       "0 2022-04-04 21:16:19 2024-06-01 08:13:50              2024-06-05 09:08:57   \n",
       "1 2022-04-04 21:16:19 2024-06-01 08:13:50              2024-06-05 09:08:57   \n",
       "2 2022-04-04 21:16:19 2024-06-01 08:13:50              2024-06-05 09:08:57   \n",
       "3 2022-04-04 21:16:19 2024-06-01 08:13:50              2024-06-05 09:08:57   \n",
       "4 2022-04-04 21:16:19 2024-06-01 08:13:50              2024-06-05 09:08:57   \n",
       "\n",
       "   isTermsAndConditionsAccepted disbursementDateTime  flagDisbursement  \\\n",
       "0                             1  2024-06-05 09:43:16                 1   \n",
       "1                             1  2024-06-05 09:43:16                 1   \n",
       "2                             1  2024-06-05 09:43:16                 1   \n",
       "3                             1  2024-06-05 09:43:16                 1   \n",
       "4                             1  2024-06-05 09:43:16                 1   \n",
       "\n",
       "  loanPaidStatus  ...        first_install_time brand device__brand  \\\n",
       "0         Normal  ... 2009-01-01 08:00:00+00:00  vivo          vivo   \n",
       "1         Normal  ... 2009-01-01 08:00:00+00:00  vivo          vivo   \n",
       "2         Normal  ... 2009-01-01 08:00:00+00:00  vivo          vivo   \n",
       "3         Normal  ... 2009-01-01 08:00:00+00:00  vivo          vivo   \n",
       "4         Normal  ... 2009-01-01 08:00:00+00:00  vivo          vivo   \n",
       "\n",
       "  device__manufacturer device__model telephony_info__network_operator_name  \\\n",
       "0                 None        V2352A                                         \n",
       "1                 None        V2352A                                         \n",
       "2                 None        V2352A                                         \n",
       "3                 None        V2352A                                         \n",
       "4                 None        V2352A                                         \n",
       "\n",
       "  telephony_info__network_operator sim_operator_name  FSPD30_loancnt  \\\n",
       "0                            51502             GLOBE  60813021420026   \n",
       "1                            51502             GLOBE  60813021420026   \n",
       "2                            51502             GLOBE  60813021420026   \n",
       "3                            51502             GLOBE  60813021420026   \n",
       "4                            51502             GLOBE  60813021420026   \n",
       "\n",
       "  obsFSPD30_loancnt  \n",
       "0    60813021420026  \n",
       "1    60813021420026  \n",
       "2    60813021420026  \n",
       "3    60813021420026  \n",
       "4    60813021420026  \n",
       "\n",
       "[5 rows x 26 columns]"
      ]
     },
     "execution_count": 15,
     "metadata": {},
     "output_type": "execute_result"
    }
   ],
   "source": [
    "df.head()"
   ]
  },
  {
   "cell_type": "code",
   "execution_count": 25,
   "id": "4498cd7a-aba3-45cd-aab2-b35a1805b495",
   "metadata": {},
   "outputs": [],
   "source": [
    "client = storage.Client()\n",
    "bucket = client.get_bucket(BUCKET)\n",
    "# Create a blob\n",
    "blob = bucket.blob(f\"report_dumps/'VertexAi'/data/{DATANAME}.csv\")\n",
    "\n",
    "# Save DataFrame to CSV\n",
    "df.to_csv(f\"{DATANAME}.csv\", index=False)\n",
    "\n",
    "# Upload the CSV to the bucket\n",
    "blob.upload_from_filename(f\"{DATANAME}.csv\")\n"
   ]
  },
  {
   "cell_type": "code",
   "execution_count": null,
   "id": "ef20c020-b58a-4dae-9d6d-7fa218b303aa",
   "metadata": {},
   "outputs": [],
   "source": []
  },
  {
   "cell_type": "markdown",
   "id": "677c7290-cfd1-4022-a524-c20a123aa22d",
   "metadata": {},
   "source": [
    "---\n",
    "<a id = 'permissions'></a>\n",
    "## Service Account & Permissions\n",
    "\n",
    "This notebook instance is running as a service account in GCP.  This service account will also be used to run other services in Vertex AI like training jobs and pipelines.  The service account will need permission to interact with object in Cloud Storage which requires the role ([roles/storage.objectAdmin](https://cloud.google.com/storage/docs/access-control/iam-roles)).  "
   ]
  },
  {
   "cell_type": "markdown",
   "id": "cd5a4b97-822b-46cc-84ca-5df97359b639",
   "metadata": {},
   "source": [
    "Get the current service account:"
   ]
  },
  {
   "cell_type": "code",
   "execution_count": 9,
   "id": "35ecb20b-a16b-460f-88e6-bb4866686cb0",
   "metadata": {},
   "outputs": [
    {
     "data": {
      "text/plain": [
       "'32828934978-compute@developer.gserviceaccount.com'"
      ]
     },
     "execution_count": 9,
     "metadata": {},
     "output_type": "execute_result"
    }
   ],
   "source": [
    "SERVICE_ACCOUNT = !gcloud config list --format='value(core.account)' \n",
    "SERVICE_ACCOUNT = SERVICE_ACCOUNT[0]\n",
    "SERVICE_ACCOUNT"
   ]
  },
  {
   "cell_type": "markdown",
   "id": "660fa4ec-fed9-4868-953c-0bd8d0118c22",
   "metadata": {},
   "source": [
    "Enable the Cloud Resource Manager API:"
   ]
  },
  {
   "cell_type": "code",
   "execution_count": 10,
   "id": "53429ebb-ab4e-4d23-bd10-6fa3902feaf6",
   "metadata": {},
   "outputs": [
    {
     "name": "stdout",
     "output_type": "stream",
     "text": [
      "\n",
      "\n",
      "To take a quick anonymous survey, run:\n",
      "  $ gcloud survey\n",
      "\n"
     ]
    }
   ],
   "source": [
    "!gcloud services enable cloudresourcemanager.googleapis.com"
   ]
  },
  {
   "cell_type": "markdown",
   "id": "6c325662-bf04-423d-8ad0-ee9022819b20",
   "metadata": {},
   "source": [
    "List the service accounts current roles:"
   ]
  },
  {
   "cell_type": "code",
   "execution_count": 11,
   "id": "15d35738-e529-4c47-b2dd-f653bcc85af8",
   "metadata": {},
   "outputs": [
    {
     "name": "stdout",
     "output_type": "stream",
     "text": [
      "\u001b[1;31mERROR:\u001b[0m (gcloud.projects.get-iam-policy) User [32828934978-compute@developer.gserviceaccount.com] does not have permission to access projects instance [prj-prod-dataplatform:getIamPolicy] (or it may not exist): The caller does not have permission\n"
     ]
    }
   ],
   "source": [
    "!gcloud projects get-iam-policy $PROJECT_ID --filter=\"bindings.members:$SERVICE_ACCOUNT\" --format='table(bindings.role)' --flatten=\"bindings[].members\""
   ]
  },
  {
   "cell_type": "markdown",
   "id": "b82db371-3788-4d25-9046-1df31f535e09",
   "metadata": {},
   "source": [
    "If the resulting list is missing `roles/storage.objectAdmin` or another role that contains this permission, like the basic role `roles/owner`, then it will need to be added for the service account. Use these instructions to complete this:"
   ]
  },
  {
   "cell_type": "code",
   "execution_count": 12,
   "id": "0b868873-7217-49b9-9b13-31059da50a5e",
   "metadata": {},
   "outputs": [
    {
     "name": "stdout",
     "output_type": "stream",
     "text": [
      "Go To IAM in the Google Cloud Console:\n",
      "https://console.cloud.google.com/iam-admin/iam?orgonly=true&project=prj-prod-dataplatform&supportedpurview=organizationId\n"
     ]
    }
   ],
   "source": [
    "print(f'Go To IAM in the Google Cloud Console:\\nhttps://console.cloud.google.com/iam-admin/iam?orgonly=true&project={PROJECT_ID}&supportedpurview=organizationId')"
   ]
  },
  {
   "cell_type": "markdown",
   "id": "51482d76-ceed-496c-bed8-1f1ea875a92e",
   "metadata": {},
   "source": [
    "From the console link above, or by going to https:/console.cloud.google.com and navigating to \"IAM & Admin > IAM\":\n",
    "- Locate the row for the service account listed above: `<project number>-compute@developer.gserviceaccount.com`\n",
    "- Under the `inheritance` column click the pencil icon to edit roles\n",
    "- In the fly over menu, under `Assign roles` select `Add Another Role`\n",
    "- Click the `Select a role` box and type `Storage Object Admin`, then select `Storage Object Admin`\n",
    "- Click Save\n",
    "- Rerun the list of services below and verify the role has been added:"
   ]
  },
  {
   "cell_type": "code",
   "execution_count": 13,
   "id": "82eeadef-20e6-4666-bff7-2d66e431f17a",
   "metadata": {},
   "outputs": [
    {
     "name": "stdout",
     "output_type": "stream",
     "text": [
      "\u001b[1;31mERROR:\u001b[0m (gcloud.projects.get-iam-policy) User [32828934978-compute@developer.gserviceaccount.com] does not have permission to access projects instance [prj-prod-dataplatform:getIamPolicy] (or it may not exist): The caller does not have permission\n"
     ]
    }
   ],
   "source": [
    "!gcloud projects get-iam-policy $PROJECT_ID --filter=\"bindings.members:$SERVICE_ACCOUNT\" --format='table(bindings.role)' --flatten=\"bindings[].members\""
   ]
  },
  {
   "cell_type": "markdown",
   "id": "24e7bef6",
   "metadata": {},
   "source": [
    "---\n",
    "## Install KFP\n",
    "If you get an error after a step, rerun it.  The dependecies sometimes resolve.\n",
    "- [Install the Kubeflow Pipelines SDK](https://www.kubeflow.org/docs/components/pipelines/v1/sdk/install-sdk/)"
   ]
  },
  {
   "cell_type": "code",
   "execution_count": 26,
   "id": "7b11a956",
   "metadata": {},
   "outputs": [
    {
     "name": "stdout",
     "output_type": "stream",
     "text": [
      "\u001b[33mWARNING: Ignoring invalid distribution -okeh (/opt/conda/lib/python3.10/site-packages)\u001b[0m\u001b[33m\n",
      "\u001b[0m\u001b[33mWARNING: Ignoring invalid distribution -oogle-auth (/opt/conda/lib/python3.10/site-packages)\u001b[0m\u001b[33m\n",
      "\u001b[0m\u001b[33mWARNING: Ignoring invalid distribution -oogle-cloud-datastore (/opt/conda/lib/python3.10/site-packages)\u001b[0m\u001b[33m\n",
      "\u001b[0m\u001b[33mWARNING: Ignoring invalid distribution -okeh (/opt/conda/lib/python3.10/site-packages)\u001b[0m\u001b[33m\n",
      "\u001b[0m\u001b[33mWARNING: Ignoring invalid distribution -oogle-auth (/opt/conda/lib/python3.10/site-packages)\u001b[0m\u001b[33m\n",
      "\u001b[0m\u001b[33mWARNING: Ignoring invalid distribution -oogle-cloud-datastore (/opt/conda/lib/python3.10/site-packages)\u001b[0m\u001b[33m\n",
      "\u001b[0m\u001b[31mERROR: pip's dependency resolver does not currently take into account all the packages that are installed. This behaviour is the source of the following dependency conflicts.\n",
      "google-cloud-pipeline-components 2.6.0 requires kfp<=2.4.0,>=2.0.0b10, but you have kfp 2.9.0 which is incompatible.\u001b[0m\u001b[31m\n",
      "\u001b[0m"
     ]
    }
   ],
   "source": [
    "!pip install kfp -U -q"
   ]
  },
  {
   "cell_type": "code",
   "execution_count": 27,
   "id": "ba0cdd23",
   "metadata": {},
   "outputs": [
    {
     "name": "stdout",
     "output_type": "stream",
     "text": [
      "\u001b[33mWARNING: Ignoring invalid distribution -okeh (/opt/conda/lib/python3.10/site-packages)\u001b[0m\u001b[33m\n",
      "\u001b[0m\u001b[33mWARNING: Ignoring invalid distribution -oogle-auth (/opt/conda/lib/python3.10/site-packages)\u001b[0m\u001b[33m\n",
      "\u001b[0m\u001b[33mWARNING: Ignoring invalid distribution -oogle-cloud-datastore (/opt/conda/lib/python3.10/site-packages)\u001b[0m\u001b[33m\n",
      "\u001b[0m\u001b[33mWARNING: Ignoring invalid distribution -okeh (/opt/conda/lib/python3.10/site-packages)\u001b[0m\u001b[33m\n",
      "\u001b[0m\u001b[33mWARNING: Ignoring invalid distribution -oogle-auth (/opt/conda/lib/python3.10/site-packages)\u001b[0m\u001b[33m\n",
      "\u001b[0m\u001b[33mWARNING: Ignoring invalid distribution -oogle-cloud-datastore (/opt/conda/lib/python3.10/site-packages)\u001b[0m\u001b[33m\n",
      "\u001b[0m"
     ]
    }
   ],
   "source": [
    "!pip install google-cloud-pipeline-components -U -q"
   ]
  },
  {
   "cell_type": "code",
   "execution_count": 29,
   "id": "396ba284-5a57-4e4a-aa68-84bd1d2e69c5",
   "metadata": {},
   "outputs": [
    {
     "name": "stdout",
     "output_type": "stream",
     "text": [
      "\u001b[33mWARNING: Ignoring invalid distribution -okeh (/opt/conda/lib/python3.10/site-packages)\u001b[0m\u001b[33m\n",
      "\u001b[0m\u001b[33mWARNING: Ignoring invalid distribution -oogle-auth (/opt/conda/lib/python3.10/site-packages)\u001b[0m\u001b[33m\n",
      "\u001b[0m\u001b[33mWARNING: Ignoring invalid distribution -oogle-cloud-datastore (/opt/conda/lib/python3.10/site-packages)\u001b[0m\u001b[33m\n",
      "\u001b[0m\u001b[33mWARNING: Ignoring invalid distribution -okeh (/opt/conda/lib/python3.10/site-packages)\u001b[0m\u001b[33m\n",
      "\u001b[0m\u001b[33mWARNING: Ignoring invalid distribution -oogle-auth (/opt/conda/lib/python3.10/site-packages)\u001b[0m\u001b[33m\n",
      "\u001b[0m\u001b[33mWARNING: Ignoring invalid distribution -oogle-cloud-datastore (/opt/conda/lib/python3.10/site-packages)\u001b[0m\u001b[33m\n",
      "\u001b[0m"
     ]
    }
   ],
   "source": [
    "!pip install plotly -q"
   ]
  },
  {
   "cell_type": "markdown",
   "id": "9681525d",
   "metadata": {
    "tags": []
   },
   "source": [
    "---\n",
    "## Update AIPlatform Package:\n",
    "\n",
    "The `google-cloud-aiplatform` package updates frequently.  Update it for latest functionality.\n",
    "\n",
    "- [aiplatform Python Client](https://cloud.google.com/python/docs/reference/aiplatform/latest/google.cloud.aiplatform)\n",
    "- [GitHub Repo for api-common-protos](https://github.com/googleapis/api-common-protos)\n",
    "\n",
    "For a better understanding of the Vertex AI APIs client, version, and layers please review the tip here [aiplatform_notes.md](../Tips/aiplatform_notes.md)."
   ]
  },
  {
   "cell_type": "code",
   "execution_count": 33,
   "id": "28e46217",
   "metadata": {},
   "outputs": [
    {
     "name": "stdout",
     "output_type": "stream",
     "text": [
      "\u001b[33mWARNING: Ignoring invalid distribution -okeh (/opt/conda/lib/python3.10/site-packages)\u001b[0m\u001b[33m\n",
      "\u001b[0m\u001b[33mWARNING: Ignoring invalid distribution -oogle-auth (/opt/conda/lib/python3.10/site-packages)\u001b[0m\u001b[33m\n",
      "\u001b[0m\u001b[33mWARNING: Ignoring invalid distribution -oogle-cloud-datastore (/opt/conda/lib/python3.10/site-packages)\u001b[0m\u001b[33m\n",
      "\u001b[0m\u001b[33mWARNING: Ignoring invalid distribution -oogleapis-common-protos (/opt/conda/lib/python3.10/site-packages)\u001b[0m\u001b[33m\n",
      "\u001b[0m\u001b[33mWARNING: Ignoring invalid distribution -okeh (/opt/conda/lib/python3.10/site-packages)\u001b[0m\u001b[33m\n",
      "\u001b[0m\u001b[33mWARNING: Ignoring invalid distribution -oogle-auth (/opt/conda/lib/python3.10/site-packages)\u001b[0m\u001b[33m\n",
      "\u001b[0m\u001b[33mWARNING: Ignoring invalid distribution -oogle-cloud-datastore (/opt/conda/lib/python3.10/site-packages)\u001b[0m\u001b[33m\n",
      "\u001b[0m\u001b[33mWARNING: Ignoring invalid distribution -oogleapis-common-protos (/opt/conda/lib/python3.10/site-packages)\u001b[0m\u001b[33m\n",
      "\u001b[0m"
     ]
    }
   ],
   "source": [
    "!pip install googleapis-common-protos -U -q --user"
   ]
  },
  {
   "cell_type": "code",
   "execution_count": 34,
   "id": "66ded758-1c0f-4b40-8d18-0faf0ea28ad3",
   "metadata": {},
   "outputs": [
    {
     "name": "stdout",
     "output_type": "stream",
     "text": [
      "\u001b[33mWARNING: Ignoring invalid distribution -okeh (/opt/conda/lib/python3.10/site-packages)\u001b[0m\u001b[33m\n",
      "\u001b[0m\u001b[33mWARNING: Ignoring invalid distribution -oogle-auth (/opt/conda/lib/python3.10/site-packages)\u001b[0m\u001b[33m\n",
      "\u001b[0m\u001b[33mWARNING: Ignoring invalid distribution -oogle-cloud-datastore (/opt/conda/lib/python3.10/site-packages)\u001b[0m\u001b[33m\n",
      "\u001b[0m\u001b[33mWARNING: Ignoring invalid distribution -oogleapis-common-protos (/opt/conda/lib/python3.10/site-packages)\u001b[0m\u001b[33m\n",
      "\u001b[0m\u001b[33mWARNING: Ignoring invalid distribution -okeh (/opt/conda/lib/python3.10/site-packages)\u001b[0m\u001b[33m\n",
      "\u001b[0m\u001b[33mWARNING: Ignoring invalid distribution -oogle-auth (/opt/conda/lib/python3.10/site-packages)\u001b[0m\u001b[33m\n",
      "\u001b[0m\u001b[33mWARNING: Ignoring invalid distribution -oogle-cloud-datastore (/opt/conda/lib/python3.10/site-packages)\u001b[0m\u001b[33m\n",
      "\u001b[0m\u001b[33mWARNING: Ignoring invalid distribution -oogleapis-common-protos (/opt/conda/lib/python3.10/site-packages)\u001b[0m\u001b[33m\n",
      "\u001b[0m"
     ]
    }
   ],
   "source": [
    "!pip install google-cloud-aiplatform -U -q"
   ]
  },
  {
   "cell_type": "code",
   "execution_count": 35,
   "id": "5a235ebe-25f6-43f8-a353-ed6c056a1bee",
   "metadata": {},
   "outputs": [
    {
     "data": {
      "text/plain": [
       "'1.68.0'"
      ]
     },
     "execution_count": 35,
     "metadata": {},
     "output_type": "execute_result"
    }
   ],
   "source": [
    "from google.cloud import aiplatform\n",
    "aiplatform.__version__"
   ]
  },
  {
   "cell_type": "code",
   "execution_count": null,
   "id": "6f039b2a-0dd2-4a11-89dc-6be58b86de71",
   "metadata": {},
   "outputs": [],
   "source": []
  }
 ],
 "metadata": {
  "environment": {
   "kernel": "python3",
   "name": "common-cpu.m110",
   "type": "gcloud",
   "uri": "gcr.io/deeplearning-platform-release/base-cpu:m110"
  },
  "kernelspec": {
   "display_name": "Python 3",
   "language": "python",
   "name": "python3"
  },
  "language_info": {
   "codemirror_mode": {
    "name": "ipython",
    "version": 3
   },
   "file_extension": ".py",
   "mimetype": "text/x-python",
   "name": "python",
   "nbconvert_exporter": "python",
   "pygments_lexer": "ipython3",
   "version": "3.10.12"
  }
 },
 "nbformat": 4,
 "nbformat_minor": 5
}
